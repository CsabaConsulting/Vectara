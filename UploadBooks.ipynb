{
 "cells": [
  {
   "cell_type": "code",
   "execution_count": 7,
   "id": "96ad09b2-5a4a-4763-8251-353030daf17a",
   "metadata": {
    "tags": []
   },
   "outputs": [],
   "source": [
    "import json\n",
    "import os\n",
    "import requests\n",
    "\n",
    "from typing import Any\n",
    "\n",
    "customer_id = \"2906470669\"\n",
    "corpus_id = \"6\"\n",
    "api_key = os.getenv(\"VECTARA_API_KEY\") or \"VECTARA_API_KEY\"\n",
    "url = f\"https://api.vectara.io/v1/upload?c={customer_id}&o={corpus_id}\"\n",
    "\n",
    "post_headers = {\n",
    "    \"x-api-key\": api_key,\n",
    "    \"customer-id\": customer_id\n",
    "}"
   ]
  },
  {
   "cell_type": "code",
   "execution_count": 8,
   "id": "8e5336a3-a3f6-4b8f-8a74-bba2ddf0adb5",
   "metadata": {
    "tags": []
   },
   "outputs": [],
   "source": [
    "category = \"Books\"\n",
    "pdf_files = [\n",
    "    dict(\n",
    "        title=\"Business Plan Development Guide\",\n",
    "        kind=\"book\",\n",
    "        category=category,\n",
    "        category_slug=\"\",\n",
    "        slug=\"\",\n",
    "        file_name=\"CU_CE_Business_Plan_Development_Guide_2021-04.pdf\",\n",
    "        file_path=\"books/CU_CE_Business_Plan_Development_Guide_2021-04.pdf\"\n",
    "    ),\n",
    "    dict(\n",
    "        title=\"Investment Valuation 3rd Edition\",\n",
    "        kind=\"book\",\n",
    "        category=category,\n",
    "        category_slug=\"\",\n",
    "        slug=\"\",\n",
    "        file_name=\"investment-valuation-3rd-edition.pdf\",\n",
    "        file_path=\"books/investment-valuation-3rd-edition.pdf\"\n",
    "    ),\n",
    "    dict(\n",
    "        title=\"Budgeting Basics and Beyond 2nd Edition\",\n",
    "        kind=\"book\",\n",
    "        category=category,\n",
    "        category_slug=\"\",\n",
    "        slug=\"\",\n",
    "        file_name=\"BUDGET Budgeting Basics and Beyond.pdf\",\n",
    "        file_path=\"books/BUDGET Budgeting Basics and Beyond.pdf\"\n",
    "    ),\n",
    "    dict(\n",
    "        title=\"Twelve Steps to Cash Flow Budgeting\",\n",
    "        kind=\"book\",\n",
    "        category=category,\n",
    "        category_slug=\"\",\n",
    "        slug=\"\",\n",
    "        file_name=\"Twelve Steps to Cash Flow Budgeting.pdf\",\n",
    "        file_path=\"books/Twelve Steps to Cash Flow Budgeting.pdf\"\n",
    "    )\n",
    "]"
   ]
  },
  {
   "cell_type": "code",
   "execution_count": 9,
   "id": "ef6e866b-6f00-46ec-9e72-6afb14721287",
   "metadata": {
    "tags": []
   },
   "outputs": [],
   "source": [
    "responses = []\n",
    "for pdf_file in pdf_files:\n",
    "    files: Any = {\n",
    "        \"file\": (pdf_file[\"file_name\"], open(pdf_file[\"file_path\"], \"rb\")),\n",
    "        \"doc_metadata\": (None, json.dumps(pdf_file)),\n",
    "    }\n",
    "    response = requests.post(url, files=files, verify=True, headers=post_headers)\n",
    "    responses.append(response)"
   ]
  },
  {
   "cell_type": "code",
   "execution_count": 10,
   "id": "5d2cd6b9-f2af-441c-9f2b-eb5b75844400",
   "metadata": {
    "tags": []
   },
   "outputs": [],
   "source": [
    "errors = [r for r in responses if r.status_code != 200]"
   ]
  },
  {
   "cell_type": "code",
   "execution_count": 11,
   "id": "cde05786-4981-4a4a-9daa-39d08edb1262",
   "metadata": {
    "tags": []
   },
   "outputs": [
    {
     "data": {
      "text/plain": [
       "[]"
      ]
     },
     "execution_count": 11,
     "metadata": {},
     "output_type": "execute_result"
    }
   ],
   "source": [
    "errors"
   ]
  },
  {
   "cell_type": "code",
   "execution_count": 12,
   "id": "6c9ab661-7e2f-4b73-a708-2fe6866aaeb2",
   "metadata": {
    "tags": []
   },
   "outputs": [
    {
     "data": {
      "text/plain": [
       "'{\"response\":{\\n  \"status\": {\\n  },\\n  \"quotaConsumed\": {\\n    \"numChars\": \"49319\",\\n    \"numMetadataChars\": \"21351\"\\n  }\\n}}'"
      ]
     },
     "execution_count": 12,
     "metadata": {},
     "output_type": "execute_result"
    }
   ],
   "source": [
    "responses[0].text"
   ]
  }
 ],
 "metadata": {
  "kernelspec": {
   "display_name": "Python 3 (ipykernel)",
   "language": "python",
   "name": "python3"
  },
  "language_info": {
   "codemirror_mode": {
    "name": "ipython",
    "version": 3
   },
   "file_extension": ".py",
   "mimetype": "text/x-python",
   "name": "python",
   "nbconvert_exporter": "python",
   "pygments_lexer": "ipython3",
   "version": "3.9.13"
  }
 },
 "nbformat": 4,
 "nbformat_minor": 5
}
