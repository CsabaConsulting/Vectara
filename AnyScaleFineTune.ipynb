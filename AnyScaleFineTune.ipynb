{
 "cells": [
  {
   "cell_type": "code",
   "execution_count": 1,
   "id": "96ad09b2-5a4a-4763-8251-353030daf17a",
   "metadata": {
    "tags": []
   },
   "outputs": [],
   "source": [
    "from pathlib import Path\n",
    "import os\n",
    "import openai\n",
    "\n",
    "# Define the fine tune file path\n",
    "input_filepath = Path('./fine_tune_openai.jsonl')\n",
    "epochs = 3\n",
    "\n",
    "# AnyScale uses OpenAI's API\n",
    "# This code is for Pre 1.0.0 openai PyPi packages (latest is 0.28.1)\n",
    "openai.api_base = \"https://api.endpoints.anyscale.com/v1\"\n",
    "openai.api_key = os.getenv(\"ANYSCALE_API_KEY\") or \"ANYSCALE_API_KEY\"\n",
    "upload_response = openai.File.create(\n",
    "  file=open(input_filepath, 'rb'),\n",
    "  purpose='fine-tune',\n",
    "  user_provided_filename='fine_tune_openai.jsonl'\n",
    ")\n",
    "file_id = upload_response['id']"
   ]
  },
  {
   "cell_type": "code",
   "execution_count": 2,
   "id": "d68ad55e-eca0-48f8-b4d4-e00cc1ca99d8",
   "metadata": {
    "tags": []
   },
   "outputs": [],
   "source": [
    "tuning_response = openai.FineTuningJob.create(training_file=file_id, model=\"meta-llama/Llama-2-13b-chat-hf\")"
   ]
  },
  {
   "cell_type": "code",
   "execution_count": 3,
   "id": "20d1eeee-d53b-428e-bf0c-2a29cb43b737",
   "metadata": {
    "tags": []
   },
   "outputs": [
    {
     "data": {
      "text/plain": [
       "<OpenAIObject id=eftjob_ajrulxed4bzmyyxbdjai4kzxfm at 0x7f6d7429bc20> JSON: {\n",
       "  \"result_files\": [],\n",
       "  \"trained_tokens\": null,\n",
       "  \"hyperparameters\": {\n",
       "    \"n_epochs\": null,\n",
       "    \"context_length\": null\n",
       "  },\n",
       "  \"training_file\": \"file_tvxaemf2dz9zhe6e8et1yqkvwl\",\n",
       "  \"validation_file\": null,\n",
       "  \"model\": \"meta-llama/Llama-2-13b-chat-hf\",\n",
       "  \"id\": \"eftjob_ajrulxed4bzmyyxbdjai4kzxfm\",\n",
       "  \"created_at\": \"2023-11-07T23:30:56.225739+00:00\",\n",
       "  \"finished_at\": null,\n",
       "  \"fine_tuned_model\": \"meta-llama/Llama-2-13b-chat-hf:csaba:kT3uyyh\",\n",
       "  \"status\": \"pending\",\n",
       "  \"error\": null,\n",
       "  \"creator_id\": \"euser_k4znv6t582e33jvuljc1v2d23z\"\n",
       "}"
      ]
     },
     "execution_count": 3,
     "metadata": {},
     "output_type": "execute_result"
    }
   ],
   "source": [
    "tuning_response"
   ]
  },
  {
   "cell_type": "code",
   "execution_count": 4,
   "id": "937a84b1-c0dc-4b04-a14f-4e124b132d7f",
   "metadata": {
    "tags": []
   },
   "outputs": [
    {
     "name": "stdout",
     "output_type": "stream",
     "text": [
      "Fine started for fine_tune_openai.jsonl (file_tvxaemf2dz9zhe6e8et1yqkvwl) with ID eftjob_ajrulxed4bzmyyxbdjai4kzxfm.\n",
      "\n"
     ]
    }
   ],
   "source": [
    "tune_model = tuning_response[\"model\"]\n",
    "tune_id = tuning_response[\"id\"]\n",
    "print(f\"Fine started for {input_filepath} ({file_id}) with ID {tune_id}.\\n\")"
   ]
  },
  {
   "cell_type": "code",
   "execution_count": 5,
   "id": "816e90aa-4119-4b3e-862a-581ab20aec28",
   "metadata": {
    "tags": []
   },
   "outputs": [
    {
     "data": {
      "text/plain": [
       "<OpenAIObject at 0x7f6d59afca40> JSON: {\n",
       "  \"data\": [\n",
       "    {\n",
       "      \"result_files\": [\n",
       "        \"file_7ed6hsntzg48744safst5tqaeb\"\n",
       "      ],\n",
       "      \"trained_tokens\": null,\n",
       "      \"hyperparameters\": {\n",
       "        \"n_epochs\": null,\n",
       "        \"context_length\": null\n",
       "      },\n",
       "      \"training_file\": \"file_tvxaemf2dz9zhe6e8et1yqkvwl\",\n",
       "      \"validation_file\": null,\n",
       "      \"model\": \"meta-llama/Llama-2-13b-chat-hf\",\n",
       "      \"id\": \"eftjob_ajrulxed4bzmyyxbdjai4kzxfm\",\n",
       "      \"created_at\": \"2023-11-07T23:30:56.225739+00:00\",\n",
       "      \"finished_at\": null,\n",
       "      \"fine_tuned_model\": \"meta-llama/Llama-2-13b-chat-hf:csaba:kT3uyyh\",\n",
       "      \"status\": \"running\",\n",
       "      \"error\": null,\n",
       "      \"creator_id\": \"euser_k4znv6t582e33jvuljc1v2d23z\"\n",
       "    },\n",
       "    {\n",
       "      \"result_files\": [\n",
       "        \"file_9j5uwc28ywjf4drbh8z3svuf88\"\n",
       "      ],\n",
       "      \"trained_tokens\": 3674856,\n",
       "      \"hyperparameters\": {\n",
       "        \"n_epochs\": 4,\n",
       "        \"context_length\": 1024\n",
       "      },\n",
       "      \"training_file\": \"file_tvxaemf2dz9zhe6e8et1yqkvwl\",\n",
       "      \"validation_file\": null,\n",
       "      \"model\": \"meta-llama/Llama-2-13b-chat-hf\",\n",
       "      \"id\": \"eftjob_bsyimgqzu1ehulmgc39buu8xbv\",\n",
       "      \"created_at\": \"2023-11-07T23:08:56.981023+00:00\",\n",
       "      \"finished_at\": \"2023-11-07T23:22:07.162513+00:00\",\n",
       "      \"fine_tuned_model\": \"meta-llama/Llama-2-13b-chat-hf:csaba:nAdbyJW\",\n",
       "      \"status\": \"succeeded\",\n",
       "      \"error\": null,\n",
       "      \"creator_id\": \"euser_k4znv6t582e33jvuljc1v2d23z\"\n",
       "    }\n",
       "  ]\n",
       "}"
      ]
     },
     "execution_count": 5,
     "metadata": {},
     "output_type": "execute_result"
    }
   ],
   "source": [
    "openai.FineTuningJob.list(limit=10)"
   ]
  },
  {
   "cell_type": "code",
   "execution_count": 6,
   "id": "ab01a319-9ea5-4a2f-883f-aebf2b4eba35",
   "metadata": {
    "tags": []
   },
   "outputs": [
    {
     "data": {
      "text/plain": [
       "<OpenAIObject id=eftjob_ajrulxed4bzmyyxbdjai4kzxfm at 0x7f6d59afcc20> JSON: {\n",
       "  \"result_files\": [\n",
       "    \"file_7ed6hsntzg48744safst5tqaeb\"\n",
       "  ],\n",
       "  \"trained_tokens\": null,\n",
       "  \"hyperparameters\": {\n",
       "    \"n_epochs\": null,\n",
       "    \"context_length\": null\n",
       "  },\n",
       "  \"training_file\": \"file_tvxaemf2dz9zhe6e8et1yqkvwl\",\n",
       "  \"validation_file\": null,\n",
       "  \"model\": \"meta-llama/Llama-2-13b-chat-hf\",\n",
       "  \"id\": \"eftjob_ajrulxed4bzmyyxbdjai4kzxfm\",\n",
       "  \"created_at\": \"2023-11-07T23:30:56.225739+00:00\",\n",
       "  \"finished_at\": null,\n",
       "  \"fine_tuned_model\": \"meta-llama/Llama-2-13b-chat-hf:csaba:kT3uyyh\",\n",
       "  \"status\": \"cancelled\",\n",
       "  \"error\": null,\n",
       "  \"creator_id\": \"euser_k4znv6t582e33jvuljc1v2d23z\"\n",
       "}"
      ]
     },
     "execution_count": 6,
     "metadata": {},
     "output_type": "execute_result"
    }
   ],
   "source": [
    "openai.FineTuningJob.cancel(\"eftjob_ajrulxed4bzmyyxbdjai4kzxfm\")"
   ]
  },
  {
   "cell_type": "code",
   "execution_count": 7,
   "id": "7cfbacba-8178-44ec-8e2f-1129650dc6e0",
   "metadata": {
    "tags": []
   },
   "outputs": [
    {
     "data": {
      "text/plain": [
       "<OpenAIObject at 0x7f6d7020ef90> JSON: {\n",
       "  \"data\": [\n",
       "    {\n",
       "      \"result_files\": [\n",
       "        \"file_7ed6hsntzg48744safst5tqaeb\"\n",
       "      ],\n",
       "      \"trained_tokens\": null,\n",
       "      \"hyperparameters\": {\n",
       "        \"n_epochs\": null,\n",
       "        \"context_length\": null\n",
       "      },\n",
       "      \"training_file\": \"file_tvxaemf2dz9zhe6e8et1yqkvwl\",\n",
       "      \"validation_file\": null,\n",
       "      \"model\": \"meta-llama/Llama-2-13b-chat-hf\",\n",
       "      \"id\": \"eftjob_ajrulxed4bzmyyxbdjai4kzxfm\",\n",
       "      \"created_at\": \"2023-11-07T23:30:56.225739+00:00\",\n",
       "      \"finished_at\": null,\n",
       "      \"fine_tuned_model\": \"meta-llama/Llama-2-13b-chat-hf:csaba:kT3uyyh\",\n",
       "      \"status\": \"cancelled\",\n",
       "      \"error\": null,\n",
       "      \"creator_id\": \"euser_k4znv6t582e33jvuljc1v2d23z\"\n",
       "    },\n",
       "    {\n",
       "      \"result_files\": [\n",
       "        \"file_9j5uwc28ywjf4drbh8z3svuf88\"\n",
       "      ],\n",
       "      \"trained_tokens\": 3674856,\n",
       "      \"hyperparameters\": {\n",
       "        \"n_epochs\": 4,\n",
       "        \"context_length\": 1024\n",
       "      },\n",
       "      \"training_file\": \"file_tvxaemf2dz9zhe6e8et1yqkvwl\",\n",
       "      \"validation_file\": null,\n",
       "      \"model\": \"meta-llama/Llama-2-13b-chat-hf\",\n",
       "      \"id\": \"eftjob_bsyimgqzu1ehulmgc39buu8xbv\",\n",
       "      \"created_at\": \"2023-11-07T23:08:56.981023+00:00\",\n",
       "      \"finished_at\": \"2023-11-07T23:22:07.162513+00:00\",\n",
       "      \"fine_tuned_model\": \"meta-llama/Llama-2-13b-chat-hf:csaba:nAdbyJW\",\n",
       "      \"status\": \"succeeded\",\n",
       "      \"error\": null,\n",
       "      \"creator_id\": \"euser_k4znv6t582e33jvuljc1v2d23z\"\n",
       "    }\n",
       "  ]\n",
       "}"
      ]
     },
     "execution_count": 7,
     "metadata": {},
     "output_type": "execute_result"
    }
   ],
   "source": [
    "openai.FineTuningJob.list(limit=10)"
   ]
  }
 ],
 "metadata": {
  "kernelspec": {
   "display_name": "Python 3 (ipykernel)",
   "language": "python",
   "name": "python3"
  },
  "language_info": {
   "codemirror_mode": {
    "name": "ipython",
    "version": 3
   },
   "file_extension": ".py",
   "mimetype": "text/x-python",
   "name": "python",
   "nbconvert_exporter": "python",
   "pygments_lexer": "ipython3",
   "version": "3.9.13"
  }
 },
 "nbformat": 4,
 "nbformat_minor": 5
}
