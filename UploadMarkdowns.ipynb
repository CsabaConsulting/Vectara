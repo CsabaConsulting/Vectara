{
 "cells": [
  {
   "cell_type": "code",
   "execution_count": 27,
   "id": "96ad09b2-5a4a-4763-8251-353030daf17a",
   "metadata": {
    "tags": []
   },
   "outputs": [],
   "source": [
    "import json\n",
    "import os\n",
    "import requests\n",
    "\n",
    "from typing import Any\n",
    "\n",
    "customer_id = \"2906470669\"\n",
    "corpus_id = \"2\"\n",
    "api_key = os.getenv(\"VECTARA_API_KEY\") or \"VECTARA_API_KEY\"\n",
    "url = f\"https://api.vectara.io/v1/upload?c={customer_id}&o={corpus_id}\"\n",
    "\n",
    "post_headers = {\n",
    "    \"x-api-key\": api_key,\n",
    "    \"customer-id\": customer_id\n",
    "}"
   ]
  },
  {
   "cell_type": "code",
   "execution_count": 37,
   "id": "ef6e866b-6f00-46ec-9e72-6afb14721287",
   "metadata": {
    "tags": []
   },
   "outputs": [],
   "source": [
    "directory = \"./markdown\"\n",
    "markdown_files = []\n",
    "for root, dirs, files in os.walk(directory):\n",
    "    for file_name in files:\n",
    "        # Check if the file is a markdown file\n",
    "        if file_name.endswith('.md'):\n",
    "            file_path = os.path.join(root, file_name)\n",
    "\n",
    "            # Read the file content\n",
    "            with open(file_path, \"r\", encoding=\"utf-8\") as file:\n",
    "                file_lines = file.readlines()\n",
    "                file_name_stubs = file_name.split(\".\")[0].split(\"_\")\n",
    "                meta_data = dict(\n",
    "                    title=file_lines[0][1:].strip(),\n",
    "                    url=\"\",\n",
    "                    category=file_lines[1][12:].strip(),\n",
    "                    category_slug=file_name_stubs[0],\n",
    "                    slug=file_name_stubs[1],\n",
    "                    file_name=file_name,\n",
    "                    file_path=file_path\n",
    "                )\n",
    "                # Append the file path and content to the markdown_files list\n",
    "                markdown_files.append((file_path, meta_data))"
   ]
  },
  {
   "cell_type": "code",
   "execution_count": null,
   "id": "26893444-d2bd-46f9-8313-357a14a6821b",
   "metadata": {},
   "outputs": [],
   "source": [
    "responses = []\n",
    "for mdf in markdown_files:\n",
    "    files: Any = {\n",
    "        \"file\": (mdf[1][\"file_name\"], open(mdf[0], \"rb\")),\n",
    "        \"doc_metadata\": (None, json.dumps(mdf[1])),\n",
    "    }\n",
    "    response = requests.post(url, files=files, verify=True, headers=post_headers)\n",
    "    responses.append(response)"
   ]
  },
  {
   "cell_type": "code",
   "execution_count": 38,
   "id": "5d2cd6b9-f2af-441c-9f2b-eb5b75844400",
   "metadata": {
    "tags": []
   },
   "outputs": [],
   "source": [
    "errors = [r for r in responses if r.status_code != 200]"
   ]
  },
  {
   "cell_type": "code",
   "execution_count": 39,
   "id": "cde05786-4981-4a4a-9daa-39d08edb1262",
   "metadata": {
    "tags": []
   },
   "outputs": [
    {
     "data": {
      "text/plain": [
       "[]"
      ]
     },
     "execution_count": 39,
     "metadata": {},
     "output_type": "execute_result"
    }
   ],
   "source": [
    "errors"
   ]
  },
  {
   "cell_type": "code",
   "execution_count": 40,
   "id": "6c9ab661-7e2f-4b73-a708-2fe6866aaeb2",
   "metadata": {
    "tags": []
   },
   "outputs": [
    {
     "data": {
      "text/plain": [
       "'{\"response\":{\\n  \"status\": {\\n  },\\n  \"quotaConsumed\": {\\n    \"numChars\": \"47389\",\\n    \"numMetadataChars\": \"16648\"\\n  }\\n}}'"
      ]
     },
     "execution_count": 40,
     "metadata": {},
     "output_type": "execute_result"
    }
   ],
   "source": [
    "responses[0].text"
   ]
  }
 ],
 "metadata": {
  "kernelspec": {
   "display_name": "Python 3 (ipykernel)",
   "language": "python",
   "name": "python3"
  },
  "language_info": {
   "codemirror_mode": {
    "name": "ipython",
    "version": 3
   },
   "file_extension": ".py",
   "mimetype": "text/x-python",
   "name": "python",
   "nbconvert_exporter": "python",
   "pygments_lexer": "ipython3",
   "version": "3.9.13"
  }
 },
 "nbformat": 4,
 "nbformat_minor": 5
}
