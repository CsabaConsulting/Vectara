{
 "cells": [
  {
   "cell_type": "code",
   "execution_count": 5,
   "id": "96ad09b2-5a4a-4763-8251-353030daf17a",
   "metadata": {
    "tags": []
   },
   "outputs": [],
   "source": [
    "import json\n",
    "import os\n",
    "import requests\n",
    "\n",
    "from typing import Any\n",
    "\n",
    "customer_id = \"2906470669\"\n",
    "corpus_id = \"2\"\n",
    "api_key = os.getenv(\"VECTARA_API_KEY\") or \"VECTARA_API_KEY\"\n",
    "url = f\"https://api.vectara.io/v1/upload?c={customer_id}&o={corpus_id}\"\n",
    "\n",
    "post_headers = {\n",
    "    \"x-api-key\": api_key,\n",
    "    \"customer-id\": customer_id\n",
    "}"
   ]
  },
  {
   "cell_type": "code",
   "execution_count": 6,
   "id": "ef6e866b-6f00-46ec-9e72-6afb14721287",
   "metadata": {
    "tags": []
   },
   "outputs": [],
   "source": [
    "meta_data = dict(\n",
    "    title=\"Quizlet budgeting and investment quiz\",\n",
    "    kind=\"qna\",\n",
    "    category=\"Quizlet\",\n",
    "    category_slug=\"\",\n",
    "    slug=\"\",\n",
    "    file_name=\"quizlet.md\",\n",
    "    file_path=\"quizlet.md\"\n",
    ")\n",
    "\n",
    "files: Any = {\n",
    "    \"file\": (meta_data[\"file_name\"], open(meta_data[\"file_path\"], \"rb\")),\n",
    "    \"doc_metadata\": (None, json.dumps(meta_data)),\n",
    "}\n",
    "response = requests.post(url, files=files, verify=True, headers=post_headers)"
   ]
  },
  {
   "cell_type": "code",
   "execution_count": 4,
   "id": "6c9ab661-7e2f-4b73-a708-2fe6866aaeb2",
   "metadata": {
    "tags": []
   },
   "outputs": [
    {
     "data": {
      "text/plain": [
       "'{\"response\":{\\n  \"status\": {\\n  },\\n  \"quotaConsumed\": {\\n    \"numChars\": \"98172\",\\n    \"numMetadataChars\": \"78384\"\\n  }\\n}}'"
      ]
     },
     "execution_count": 4,
     "metadata": {},
     "output_type": "execute_result"
    }
   ],
   "source": [
    "response.text"
   ]
  }
 ],
 "metadata": {
  "kernelspec": {
   "display_name": "Python 3 (ipykernel)",
   "language": "python",
   "name": "python3"
  },
  "language_info": {
   "codemirror_mode": {
    "name": "ipython",
    "version": 3
   },
   "file_extension": ".py",
   "mimetype": "text/x-python",
   "name": "python",
   "nbconvert_exporter": "python",
   "pygments_lexer": "ipython3",
   "version": "3.9.13"
  }
 },
 "nbformat": 4,
 "nbformat_minor": 5
}
